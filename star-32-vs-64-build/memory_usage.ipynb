{
 "cells": [
  {
   "cell_type": "markdown",
   "metadata": {},
   "source": [
    "# Memory Footprint\n",
    "\n",
    "## Analyze STAR Library"
   ]
  },
  {
   "cell_type": "code",
   "execution_count": null,
   "metadata": {},
   "outputs": [],
   "source": [
    "import os\n",
    "import numpy as np\n",
    "import pandas as pd\n",
    "import matplotlib as mpl\n",
    "import matplotlib.pyplot as plt\n",
    "import seaborn as sns\n",
    "import itertools\n",
    "import collections\n",
    "\n",
    "import tk"
   ]
  },
  {
   "cell_type": "code",
   "execution_count": null,
   "metadata": {},
   "outputs": [],
   "source": [
    "build_bits  = [32, 64]\n",
    "build_types = {'min': 'MinSizeRel',\n",
    "               'rel': 'Release',\n",
    "               'deb': 'RelWithDebInfo',\n",
    "               'dic': 'Release-nodict'\n",
    "              }\n",
    "tk._prefix  = '/Users/dsmirnov/work/pub-data/star-32-vs-64-build'"
   ]
  },
  {
   "cell_type": "code",
   "execution_count": null,
   "metadata": {},
   "outputs": [],
   "source": [
    "builds_k = list(itertools.product(build_bits, build_types.keys()))\n",
    "builds_v = list(itertools.product(build_bits, build_types.values()))\n",
    "\n",
    "Build = collections.namedtuple('Build', ['id', 'bits', 'type', 'name'])\n",
    "\n",
    "builds = [Build(f'{kk}{kb}', kb, kk, f'{vb}-{vt}') for (kb, kk), (vb, vt) in zip(builds_k, builds_v)]\n",
    "builds"
   ]
  },
  {
   "cell_type": "code",
   "execution_count": null,
   "metadata": {},
   "outputs": [],
   "source": [
    "def id_to_name(ids):\n",
    "    if isinstance(ids, str):\n",
    "        for b in builds:\n",
    "            if b.id==ids: return b.name\n",
    "        return 'NotFound'\n",
    "    else:\n",
    "        return [b.name for b in builds if b.id in ids]"
   ]
  },
  {
   "cell_type": "code",
   "execution_count": null,
   "metadata": {},
   "outputs": [],
   "source": [
    "#id_to_name('min32')\n",
    "#id_to_name(['rel32', 'min64', 'rel64'])"
   ]
  },
  {
   "cell_type": "code",
   "execution_count": null,
   "metadata": {},
   "outputs": [],
   "source": [
    "libpaths = {b.id: tk.get_libpath(b) for b in builds}\n",
    "logfiles = {b.id: tk.get_log(b) for b in builds}"
   ]
  },
  {
   "cell_type": "code",
   "execution_count": null,
   "metadata": {},
   "outputs": [],
   "source": [
    "libfiles = {}\n",
    "\n",
    "for b in builds:\n",
    "    for _, _, libfiles[b.id] in os.walk(libpaths[b.id]): break"
   ]
  },
  {
   "cell_type": "code",
   "execution_count": null,
   "metadata": {},
   "outputs": [],
   "source": [
    "#libfiles['rel32'] == libfiles['min32'], libfiles['rel64'] == libfiles['min64']\n",
    "#libfiles['rel32'], libfiles['min32']"
   ]
  },
  {
   "cell_type": "code",
   "execution_count": null,
   "metadata": {},
   "outputs": [],
   "source": [
    "len(libfiles['rel32'])"
   ]
  },
  {
   "cell_type": "code",
   "execution_count": null,
   "metadata": {},
   "outputs": [],
   "source": [
    "libinfo = []\n",
    "\n",
    "for libfile in libfiles['rel32']:\n",
    "    libsizes = [os.path.getsize(libpath+libfile) for libpath in libpaths.values()]\n",
    "    libinfo.append( (libfile, *libsizes) )"
   ]
  },
  {
   "cell_type": "code",
   "execution_count": null,
   "metadata": {},
   "outputs": [],
   "source": [
    "df_libs = pd.DataFrame(libinfo, columns=['name']+[b.id for b in builds])\n",
    "df_libs"
   ]
  },
  {
   "cell_type": "code",
   "execution_count": null,
   "metadata": {},
   "outputs": [],
   "source": [
    "bins = np.logspace(4, 9, 50)\n",
    "hist_kwargs = dict(bins=bins, histtype='step', lw=1)\n",
    "\n",
    "fig, axs = plt.subplots(1, 2, figsize=(8,4))\n",
    "\n",
    "ax = axs[0]\n",
    "for b in builds:\n",
    "    data = df_libs[b.id]\n",
    "    label = f'{b.name}: {data.sum()/1024/1024:.0f} MB'\n",
    "    ax.hist(data, label=label, **hist_kwargs, cumulative=False)\n",
    "ax.legend(prop={'size': 8})\n",
    "\n",
    "ax = axs[1]\n",
    "for b in builds:\n",
    "    data = df_libs[b.id]\n",
    "    label = f'{b.name}: {data.sum()/1024/1024:.0f} MB'\n",
    "    ax.hist(data, label=label, **hist_kwargs, cumulative=True)\n",
    "ax.legend(loc='lower right', prop={'size': 8})\n",
    "    \n",
    "for ax in np.ravel(axs):\n",
    "    ax.semilogx(), ax.grid()\n",
    "    ax.set_xlabel('File Size in Bytes')\n",
    "\n",
    "plt.tight_layout()\n",
    "plt.savefig('graphics/memory_lib_file_sizes.svg')"
   ]
  },
  {
   "cell_type": "code",
   "execution_count": null,
   "metadata": {},
   "outputs": [],
   "source": [
    "df_libs_sorted = df_libs.sort_values('min32', ascending=False, inplace=False)\n",
    "#df_libs_sorted"
   ]
  },
  {
   "cell_type": "code",
   "execution_count": null,
   "metadata": {},
   "outputs": [],
   "source": [
    "select = df_libs_sorted.index[:20]\n",
    "#select\n",
    "\n",
    "datax = df_libs_sorted.loc[select]\n",
    "#datax"
   ]
  },
  {
   "cell_type": "markdown",
   "metadata": {},
   "source": [
    "## Release vs RelWithDebInfo"
   ]
  },
  {
   "cell_type": "code",
   "execution_count": null,
   "metadata": {},
   "outputs": [],
   "source": [
    "value_vars = [b.id for b in builds if b.id.startswith(('rel', 'deb'))]\n",
    "value_vars"
   ]
  },
  {
   "cell_type": "code",
   "execution_count": null,
   "metadata": {},
   "outputs": [],
   "source": [
    "datax2 = datax.melt(id_vars='name', value_vars=value_vars)\n",
    "#datax2"
   ]
  },
  {
   "cell_type": "code",
   "execution_count": null,
   "metadata": {},
   "outputs": [],
   "source": [
    "fig = plt.figure(figsize=(7,5))\n",
    "ax = sns.barplot(y='name', x='value', hue='variable', data=datax2)\n",
    "ax.legend(ax.legend().get_patches(), id_to_name(value_vars))\n",
    "ax.set(xlabel='File Size in Bytes', ylabel='Library Name')\n",
    "ax.semilogx();\n",
    "ax.grid()\n",
    "plt.tight_layout()\n",
    "plt.savefig('graphics/memory_lib_file_sizes_top20.svg')"
   ]
  },
  {
   "cell_type": "markdown",
   "metadata": {},
   "source": [
    "## Release vs RelWithDebInfo"
   ]
  },
  {
   "cell_type": "code",
   "execution_count": null,
   "metadata": {},
   "outputs": [],
   "source": [
    "value_vars = [b.id for b in builds if b.id.startswith(('rel', 'dic'))]\n",
    "value_vars"
   ]
  },
  {
   "cell_type": "code",
   "execution_count": null,
   "metadata": {},
   "outputs": [],
   "source": [
    "datax2 = datax.melt(id_vars='name', value_vars=value_vars)\n",
    "#datax2"
   ]
  },
  {
   "cell_type": "code",
   "execution_count": null,
   "metadata": {},
   "outputs": [],
   "source": [
    "fig = plt.figure(figsize=(7,5))\n",
    "ax = sns.barplot(y='name', x='value', hue='variable', data=datax2)\n",
    "ax.legend(ax.legend().get_patches(), id_to_name(value_vars))\n",
    "ax.set(xlabel='File Size in Bytes', ylabel='Library Name')\n",
    "ax.semilogx();\n",
    "ax.grid()\n",
    "plt.tight_layout()\n",
    "plt.savefig('graphics/memory_lib_file_sizes_top20_nodict.svg')"
   ]
  },
  {
   "cell_type": "markdown",
   "metadata": {},
   "source": [
    "## Results from /proc/PID/status files"
   ]
  },
  {
   "cell_type": "code",
   "execution_count": null,
   "metadata": {},
   "outputs": [],
   "source": [
    "memfiles = {b.id: tk.get_proc(b) for b in builds}"
   ]
  },
  {
   "cell_type": "code",
   "execution_count": null,
   "metadata": {},
   "outputs": [],
   "source": [
    "dfs = {}\n",
    "for bid, memfile in memfiles.items():\n",
    "    if not os.path.isfile(memfile): continue\n",
    "    dfs[bid] = pd.read_csv(memfile, skipinitialspace=True)"
   ]
  },
  {
   "cell_type": "code",
   "execution_count": null,
   "metadata": {},
   "outputs": [],
   "source": [
    "df = pd.concat(dfs.values(), keys=dfs.keys(), names=['id'])"
   ]
  },
  {
   "cell_type": "code",
   "execution_count": null,
   "metadata": {},
   "outputs": [],
   "source": [
    "df.reset_index(level=0, inplace=True)"
   ]
  },
  {
   "cell_type": "code",
   "execution_count": null,
   "metadata": {},
   "outputs": [],
   "source": [
    "df"
   ]
  },
  {
   "cell_type": "code",
   "execution_count": null,
   "metadata": {},
   "outputs": [],
   "source": [
    "len(dfs['rel32']), len(dfs['rel64']), len(dfs['deb32']), len(dfs['deb64'])"
   ]
  },
  {
   "cell_type": "code",
   "execution_count": null,
   "metadata": {},
   "outputs": [],
   "source": [
    "def make_fig(data, figname, title='', labelsize=10):\n",
    "    fig = plt.figure(figsize=(7,5))\n",
    "    ax = sns.pointplot(x='callerId', y='VmSize', hue='id', data=data, markers='x',scale=0.8)#, palette=['C0', 'C0'])\n",
    "    ax = sns.pointplot(x='callerId', y='VmRSS', hue='id', data=data, markers='.', scale=0.8)#, palette=['C1', 'C1'])\n",
    "    ax = sns.pointplot(x='callerId', y='VmLib', hue='id', data=data, markers='+', scale=0.8)#, palette=['C2', 'C2'])\n",
    "    ax.tick_params(axis='x', labelrotation=90, labelsize=labelsize)\n",
    "    ax.grid()\n",
    "    ax.set_ylim(bottom=0)\n",
    "    ax.set(title=title, xlabel='', ylabel='Memory Usage, MB');\n",
    "    #[t.set_text(id_to_name(t.get_text())) for t in ax.legend().get_texts()]\n",
    "    ax.get_legend().remove()\n",
    "    plt.tight_layout()\n",
    "    plt.savefig('graphics/'+figname+'.svg')"
   ]
  },
  {
   "cell_type": "code",
   "execution_count": null,
   "metadata": {},
   "outputs": [],
   "source": [
    "select = df.callerId.str.contains('Construct:') & df.id.str.contains('rel')\n",
    "data = df.loc[select].copy()\n",
    "data.callerId = data.callerId.str.replace('Construct:', '')\n",
    "make_fig(data, 'memory_calls_constructor_rel', 'StMaker::StMaker() Calls')"
   ]
  },
  {
   "cell_type": "code",
   "execution_count": null,
   "metadata": {},
   "outputs": [],
   "source": [
    "select = df.callerId.str.contains('Construct') & (df.id.str.contains('rel')|df.id.str.contains('dic'))\n",
    "data = df.loc[select].copy()\n",
    "data.callerId = data.callerId.str.replace('Construct:', '')\n",
    "make_fig(data, 'memory_calls_constructor_rel_dic', 'StMaker::StMaker() Calls')"
   ]
  },
  {
   "cell_type": "code",
   "execution_count": null,
   "metadata": {},
   "outputs": [],
   "source": [
    "select = df.callerId.str.contains('Load:') & (df.id.str.contains('rel'))\n",
    "#select = df.callerId.str.contains('Load:') & (df.id.str.contains('rel')|df.id.str.contains('dic'))\n",
    "data = df.loc[select].copy()\n",
    "data.callerId = data.callerId.str.replace('Load:', '')\n",
    "make_fig(data, 'memory_calls_load', 'ROOT::Load(\\\"libFoo.so\\\") Calls', 5)\n",
    "#make_fig(data, 'memory_calls_load_rel_dic', 'ROOT::Load(\\\"libFoo.so\\\") Calls', 5)"
   ]
  },
  {
   "cell_type": "code",
   "execution_count": null,
   "metadata": {},
   "outputs": [],
   "source": [
    "select = df.callerId.str.contains('Load:') & (df.id.str.contains('rel'))\n",
    "#select = df.callerId.str.contains('Load:') & (df.id.str.contains('rel')|df.id.str.contains('dic'))\n",
    "data = df.loc[select].copy()\n",
    "data.callerId = data.callerId.str.replace('Load:', '')\n",
    "make_fig(data, 'memory_calls_load', 'ROOT::Load(\\\"libFoo.so\\\") Calls', 5)\n",
    "#make_fig(data, 'memory_calls_load_rel_dic', 'ROOT::Load(\\\"libFoo.so\\\") Calls', 5)"
   ]
  },
  {
   "cell_type": "code",
   "execution_count": null,
   "metadata": {},
   "outputs": [],
   "source": [
    "select = df.callerId.str.contains('Init:') & df.id.str.contains('rel')\n",
    "data = df.loc[select].copy()\n",
    "data.callerId = data.callerId.str.replace('Init:', '')\n",
    "make_fig(data, 'memory_calls_init', 'StMaker::Init() Calls')"
   ]
  },
  {
   "cell_type": "code",
   "execution_count": null,
   "metadata": {},
   "outputs": [],
   "source": [
    "def call_indices(df):\n",
    "    load = [df.index[  (df.callerId.str.contains('Load:')) ][0]]\n",
    "    con  =  df.index[  (df.callerId.str.contains('Construct:inputStream')) ]\n",
    "    ini  =  df.index[  (df.callerId.str.contains('Init:inputStream')) ]\n",
    "    clr  =  df.index[  (df.callerId.str.contains('Clear:analysis')) ]\n",
    "    evt  =  df.index[  (df.callerId.str.contains('EndMaker:inputStream')) ]\n",
    "    return  load, con, ini, clr, evt"
   ]
  },
  {
   "cell_type": "code",
   "execution_count": null,
   "metadata": {},
   "outputs": [],
   "source": [
    "idx_load, idx_con, idx_ini, idx_clr, idx_evt = call_indices(dfs['rel32'])"
   ]
  },
  {
   "cell_type": "code",
   "execution_count": null,
   "metadata": {},
   "outputs": [],
   "source": [
    "def plot_vertical_lines(indices, color):\n",
    "    for idx in indices:\n",
    "        plt.plot([idx, idx], plt.ylim(), f'{color}')"
   ]
  },
  {
   "cell_type": "code",
   "execution_count": null,
   "metadata": {},
   "outputs": [],
   "source": [
    "xticks_ = np.sort(idx_load + idx_con.tolist() + idx_ini.tolist() + idx_clr.tolist() + idx_evt.tolist())\n",
    "xlabels_ = ['$\\\\longrightarrow$\\nLoad Libs', '$\\\\longrightarrow$\\nConstr.',\n",
    "            '$\\\\longrightarrow$\\nInit()',\n",
    "            '$\\\\longrightarrow$\\nClear()\\n#1', '$\\\\longrightarrow$\\nMake()',\n",
    "            '$\\\\longrightarrow$\\nClear()\\n#2', '$\\\\longrightarrow$\\nMake()',\n",
    "            '$\\\\longrightarrow$\\nClear()\\n#3', '$\\\\longrightarrow$\\nMake()']"
   ]
  },
  {
   "cell_type": "code",
   "execution_count": null,
   "metadata": {},
   "outputs": [],
   "source": [
    "fig = plt.figure( figsize=(8,4))\n",
    "\n",
    "for b in builds:\n",
    "    if b.id.startswith(('deb', 'dic')): continue\n",
    "    data = dfs[b.id].VmSize\n",
    "    plt.plot(np.arange(len(data)), data, label=b.name)\n",
    "\n",
    "plt.ylim(bottom=0, top=1500)\n",
    "\n",
    "plot_vertical_lines(idx_load, 'C0:')\n",
    "plot_vertical_lines(idx_con, 'C1:')\n",
    "plot_vertical_lines(idx_ini, 'C2:')\n",
    "plot_vertical_lines(idx_clr, 'C3:')\n",
    "plot_vertical_lines(idx_evt, 'C4:')\n",
    "\n",
    "plt.xticks(xticks_, xlabels_, ha='left', size=10)\n",
    "plt.legend()\n",
    "plt.grid()\n",
    "plt.gca().set(ylabel='MB')\n",
    "plt.tight_layout()\n",
    "plt.savefig('graphics/memory_calls_overall.svg')\n"
   ]
  },
  {
   "cell_type": "code",
   "execution_count": null,
   "metadata": {},
   "outputs": [],
   "source": [
    "fig = plt.figure( figsize=(8,4))\n",
    "\n",
    "for b in builds:\n",
    "    if b.id.startswith(('deb', 'dic')): continue\n",
    "    data = dfs[b.id].VmRSS\n",
    "    plt.plot(np.arange(len(data)), data, label=b.name)\n",
    "\n",
    "plt.ylim(bottom=0, top=1500)\n",
    "\n",
    "plot_vertical_lines(idx_load, 'C0:')\n",
    "plot_vertical_lines(idx_con, 'C1:')\n",
    "plot_vertical_lines(idx_ini, 'C2:')\n",
    "plot_vertical_lines(idx_clr, 'C3:')\n",
    "plot_vertical_lines(idx_evt, 'C4:')\n",
    "\n",
    "plt.xticks(xticks_, xlabels_, ha='left', size=10)\n",
    "plt.legend()\n",
    "plt.grid()\n",
    "plt.gca().set(ylabel='MB')\n",
    "plt.tight_layout()\n",
    "plt.savefig('graphics/memory_calls_overall.svg')\n"
   ]
  },
  {
   "cell_type": "code",
   "execution_count": null,
   "metadata": {},
   "outputs": [],
   "source": [
    "fig = plt.figure(figsize=(8,4))\n",
    "\n",
    "data32 = dfs['rel32'].VmRSS.values\n",
    "data64 = dfs['rel64'].VmRSS.values\n",
    "delta = data64-data32\n",
    "plt.plot(np.arange(len(data32)), delta, label='64 - 32')\n",
    "plt.ylim(bottom=0)\n",
    "plt.gca().set(ylabel='MB')\n",
    "plt.legend()\n",
    "plt.grid(True)\n",
    "plt.xticks(xticks_, xlabels_, ha='left', size=10)\n",
    "\n",
    "plt.twinx()\n",
    "\n",
    "plt.plot([0,len(delta)-1], [delta[0]/np.max(delta)*100, delta[-1]/np.max(delta)*100], '.', label='64 - 32')\n",
    "plt.gca().tick_params('y', colors='r')\n",
    "plt.grid(color='r')\n",
    "\n",
    "plt.ylim(bottom=0)\n",
    "plt.tight_layout()\n",
    "plt.savefig('graphics/memory_calls_diff.svg')\n"
   ]
  },
  {
   "cell_type": "code",
   "execution_count": null,
   "metadata": {
    "lines_to_next_cell": 2
   },
   "outputs": [],
   "source": [
    "#fig = plt.figure( figsize=(8,4))\n",
    "#\n",
    "#for b in builds:\n",
    "#    data = dfs[b.id].heap\n",
    "#    plt.plot(np.arange(len(data)), data, label=b.name)\n",
    "#\n",
    "#plt.ylim(bottom=0)\n",
    "#\n",
    "#plt.legend()\n",
    "#plt.grid()\n",
    "#plt.gca().set(xlabel='MemStat Call', ylabel='Mb')\n",
    "#plt.tight_layout()"
   ]
  },
  {
   "cell_type": "markdown",
   "metadata": {
    "lines_to_next_cell": 2
   },
   "source": [
    "## Statistical Analysis of ELF files"
   ]
  },
  {
   "cell_type": "code",
   "execution_count": null,
   "metadata": {},
   "outputs": [],
   "source": [
    "import cxxfilt\n",
    "from elftools.elf.elffile import ELFFile"
   ]
  },
  {
   "cell_type": "code",
   "execution_count": null,
   "metadata": {},
   "outputs": [],
   "source": [
    "from elftools.construct import Container\n",
    "from pandas.io.json import json_normalize\n",
    "\n",
    "\n",
    "def todict(dict_with_container):\n",
    "    mydict = {}\n",
    "    for key, value in dict_with_container.items():\n",
    "        if isinstance(value, Container):\n",
    "            mydict[key] = todict(value.__dict__)\n",
    "        else:\n",
    "            mydict[key] = value\n",
    "    return mydict\n",
    "\n",
    "\n",
    "def symbol_to_dict(sym):\n",
    "    try:\n",
    "        return dict(name=cxxfilt.demangle(sym.name), entry=todict(sym.entry), cf=True)\n",
    "    except:\n",
    "        return dict(name=sym.name, entry=todict(sym.entry), cf=False)\n",
    "\n",
    "    \n",
    "def make_sym_df(libfull):\n",
    "    with open(libfull, 'rb') as f:\n",
    "        try:\n",
    "            elffile = ELFFile(f)\n",
    "            symbols = [sym for sym in elffile.get_section_by_name('.symtab').iter_symbols()]\n",
    "            symbols_list = [symbol_to_dict(symbol) for symbol in symbols]\n",
    "            df = pd.DataFrame(json_normalize(symbols_list, sep='_'))\n",
    "            isrootgen = df.name.str.contains('_dictLN_|_dict_|ROOTDict|G__')\n",
    "            df = df.assign(r=isrootgen)\n",
    "            return df\n",
    "        except:\n",
    "            return None\n",
    "\n",
    "    \n",
    "def calc_stats(df):\n",
    "    # Calculate fraction of c++filt failed\n",
    "    frac_failed_cppfilt = float(np.count_nonzero(df.cf))/len(df.cf)\n",
    "\n",
    "    total_st_size  = df.entry_st_size.sum()\n",
    "    root_st_size   = df.loc[df.r].entry_st_size.sum()\n",
    "    frac_root_size = float(root_st_size)/total_st_size\n",
    "    frac_root_numb = float(np.count_nonzero(df.r))/len(df.r)\n",
    "    \n",
    "    return dict(size_st=total_st_size,\n",
    "                #frac_cf=frac_failed_cppfilt,\n",
    "                frac_rs=frac_root_size,\n",
    "                frac_rn=frac_root_numb\n",
    "               )\n",
    "\n",
    "\n",
    "def make_stats_dict(build, libfile):\n",
    "    libfull = tk.get_libpath(build) + libfile\n",
    "    df = make_sym_df(libfull)\n",
    "    if df is None: return None\n",
    "    stats = calc_stats(df)\n",
    "    size = os.path.getsize(libfull)\n",
    "    return dict(size=size, **stats)"
   ]
  },
  {
   "cell_type": "markdown",
   "metadata": {},
   "source": [
    "### All Libaries Statistics"
   ]
  },
  {
   "cell_type": "code",
   "execution_count": null,
   "metadata": {},
   "outputs": [],
   "source": [
    "libstats = []\n",
    "\n",
    "libfiles_selected = [lf for lf in libfiles['rel32'] if '.so' in lf]\n",
    "#libfiles_selected = [lf for lf in libfiles_selected if any(s in lf for s in ['RTS', 'Sti', 'StEvent', 'Db', 'db'])]\n",
    "libfiles_selected = [lf for lf in libfiles_selected if any(s in lf for s in ['RTS', 'Sti', 'StEvent'])]\n",
    "libfiles_selected"
   ]
  },
  {
   "cell_type": "code",
   "execution_count": null,
   "metadata": {},
   "outputs": [],
   "source": [
    "for idx, libfile in enumerate(libfiles_selected):\n",
    "    print(f'{idx:3d} processing {libfile}')\n",
    "    \n",
    "    for b in builds:\n",
    "        #if 'rel' not in b.id: continue\n",
    "        if 'deb' in b.id: continue\n",
    "        libstat = make_stats_dict(b, libfile)\n",
    "        if libstat is None:\n",
    "            print('^^^ skipping...')\n",
    "            break\n",
    "        libstats.append( dict(name=libfile, bid=b.id, **libstat) )\n",
    "\n",
    "#import pprint\n",
    "#pprint.pprint(libstats)"
   ]
  },
  {
   "cell_type": "code",
   "execution_count": null,
   "metadata": {},
   "outputs": [],
   "source": [
    "df = pd.DataFrame(json_normalize(libstats, sep='_'))"
   ]
  },
  {
   "cell_type": "code",
   "execution_count": null,
   "metadata": {},
   "outputs": [],
   "source": [
    "df"
   ]
  },
  {
   "cell_type": "code",
   "execution_count": null,
   "metadata": {},
   "outputs": [],
   "source": [
    "select = df.bid.str.contains('rel') |df.bid.str.contains('dic') \n",
    "data = df.loc[select]"
   ]
  },
  {
   "cell_type": "code",
   "execution_count": null,
   "metadata": {},
   "outputs": [],
   "source": [
    "fig = plt.figure(figsize=(8,6))\n",
    "ax = sns.barplot(x='size', y='name', hue='bid', data=data)\n",
    "ax.semilogx()\n",
    "ax.grid()\n",
    "_ = [t.set_text(id_to_name(t.get_text())) for t in ax.legend().get_texts()]\n",
    "plt.savefig('graphics/memory_select_elf_size.svg')"
   ]
  },
  {
   "cell_type": "code",
   "execution_count": null,
   "metadata": {},
   "outputs": [],
   "source": [
    "fig = plt.figure(figsize=(8,6))\n",
    "#ax = sns.barplot(x=data['size_st']/data['size'], y='name', hue='bid', data=data)\n",
    "ax = sns.barplot(x='size_st', y='name', hue='bid', data=data)\n",
    "ax.semilogx()\n",
    "ax.grid()\n",
    "_ = [t.set_text(id_to_name(t.get_text())) for t in ax.legend().get_texts()]\n",
    "plt.savefig('graphics/memory_select_elf_size_st.svg')"
   ]
  },
  {
   "cell_type": "code",
   "execution_count": null,
   "metadata": {},
   "outputs": [],
   "source": [
    "fig = plt.figure(figsize=(8,6))\n",
    "ax = sns.barplot(y='name', x='frac_rs', hue='bid', data=data)\n",
    "ax.semilogx()\n",
    "ax.grid()\n",
    "_ = [t.set_text(id_to_name(t.get_text())) for t in ax.legend().get_texts()]\n",
    "plt.savefig('graphics/memory_select_elf_frac_rs.svg')"
   ]
  },
  {
   "cell_type": "markdown",
   "metadata": {},
   "source": [
    "### Detailed View of Select Libraries"
   ]
  },
  {
   "cell_type": "code",
   "execution_count": null,
   "metadata": {},
   "outputs": [],
   "source": [
    "libname = 'libSti.so'\n",
    "#libname = 'libStEvent.so'"
   ]
  },
  {
   "cell_type": "code",
   "execution_count": null,
   "metadata": {},
   "outputs": [],
   "source": [
    "df = make_sym_df(libpaths['rel32']+libname)"
   ]
  },
  {
   "cell_type": "code",
   "execution_count": null,
   "metadata": {
    "scrolled": true
   },
   "outputs": [],
   "source": [
    "df"
   ]
  },
  {
   "cell_type": "code",
   "execution_count": null,
   "metadata": {},
   "outputs": [],
   "source": [
    "plt.hist(df32.entry_st_size, label='32', bins=np.logspace(0, 5, 101), histtype='step')\n",
    "plt.hist(df32t.entry_st_size, label='32t', bins=np.logspace(0, 5, 101), histtype='step')\n",
    "plt.hist(df64.entry_st_size, label='64', bins=np.logspace(0, 5, 101), histtype='step')\n",
    "plt.semilogx()\n",
    "#plt.semilogy()\n",
    "plt.grid()\n",
    "plt.legend()"
   ]
  },
  {
   "cell_type": "code",
   "execution_count": null,
   "metadata": {},
   "outputs": [],
   "source": [
    "bins = np.logspace(0, 5, 101)\n",
    "plt.hist(df32.entry_st_size,  label='32',  bins=bins, histtype='step', cumulative=True)\n",
    "plt.hist(df32t.entry_st_size, label='32t', bins=bins, histtype='step', cumulative=True)\n",
    "plt.hist(df64.entry_st_size,  label='64',  bins=bins, histtype='step', cumulative=True)\n",
    "plt.semilogx()\n",
    "plt.grid()\n",
    "plt.legend(loc='lower center')"
   ]
  },
  {
   "cell_type": "code",
   "execution_count": null,
   "metadata": {},
   "outputs": [],
   "source": [
    "def select_symbols(df):\n",
    "    sel_fnc = df.entry_st_info_type == 'STT_FUNC'\n",
    "    sel_obj = df.entry_st_info_type == 'STT_OBJECT'\n",
    "    sel_w = df.entry_st_info_bind == 'STB_WEAK'\n",
    "    sel_g = df.entry_st_info_bind == 'STB_GLOBAL'\n",
    "    sel_l = df.entry_st_info_bind == 'STB_LOCAL'\n",
    "    return  sel_fnc, sel_obj, sel_w, sel_g, sel_l"
   ]
  },
  {
   "cell_type": "code",
   "execution_count": null,
   "metadata": {},
   "outputs": [],
   "source": [
    "#df.loc[sel_l]"
   ]
  },
  {
   "cell_type": "code",
   "execution_count": null,
   "metadata": {},
   "outputs": [],
   "source": [
    "def select_symbol_sizes(df):\n",
    "    sel_fnc, sel_obj, sel_w, sel_g, sel_l = select_symbols(df)\n",
    "    f  = df.loc[sel_fnc].entry_st_size\n",
    "    o  = df.loc[sel_obj].entry_st_size\n",
    "    \n",
    "    fl = df.loc[sel_fnc&sel_l].entry_st_size\n",
    "    fg = df.loc[sel_fnc&sel_g].entry_st_size\n",
    "    fw = df.loc[sel_fnc&sel_w].entry_st_size\n",
    "    \n",
    "    flr = df.loc[sel_fnc&sel_l&df.r].entry_st_size\n",
    "    fgr = df.loc[sel_fnc&sel_g&df.r].entry_st_size\n",
    "    fwr = df.loc[sel_fnc&sel_w&df.r].entry_st_size\n",
    "    \n",
    "    ol = df.loc[sel_obj&sel_l].entry_st_size\n",
    "    og = df.loc[sel_obj&sel_g].entry_st_size\n",
    "    ow = df.loc[sel_obj&sel_w].entry_st_size\n",
    "    \n",
    "    olr = df.loc[sel_obj&sel_l&df.r].entry_st_size\n",
    "    ogr = df.loc[sel_obj&sel_g&df.r].entry_st_size\n",
    "    owr = df.loc[sel_obj&sel_w&df.r].entry_st_size\n",
    "    \n",
    "    return f, o, fl, fg, fw, flr, fgr, fwr, ol, og, ow, olr, ogr, owr"
   ]
  },
  {
   "cell_type": "code",
   "execution_count": null,
   "metadata": {},
   "outputs": [],
   "source": [
    "f32, o32, fl32, fg32, fw32, fl32r, fg32r, fw32r, ol32, og32, ow32, ol32r, og32r, ow32r = select_symbol_sizes(df32)\n",
    "f32t, o32t, fl32t, fg32t, fw32t, fl32rt, fg32rt, fw32rt, ol32t, og32t, ow32t, ol32rt, og32rt, ow32rt = select_symbol_sizes(df32t)\n",
    "f64, o64, fl64, fg64, fw64, fl64r, fg64r, fw64r, ol64, og64, ow64, ol64r, og64r, ow64r = select_symbol_sizes(df64)"
   ]
  },
  {
   "cell_type": "code",
   "execution_count": null,
   "metadata": {},
   "outputs": [],
   "source": [
    "def change_in_size(s32, s64):\n",
    "    change = (s64.sum() - s32.sum())/s32.sum()*100\n",
    "    return f'Total Size 32: {s32.sum()/1024/1024:.2f}Mb\\nTotal Size 64: {s64.sum()/1024/1024:.2f}Mb\\nChange in size: {change:+.1f}%'"
   ]
  },
  {
   "cell_type": "code",
   "execution_count": null,
   "metadata": {},
   "outputs": [],
   "source": [
    "h_kwargs = dict(bins=np.logspace(0, 4, 101), cumulative=-1, histtype='step')\n",
    "#lib_labels = ['64', '32']\n",
    "lib_labels = ['32t', '32']\n",
    "\n",
    "fig, axs = plt.subplots(1, 2, figsize=(8,4), sharey='row')#, gridspec_kw=dict(wspace=0))\n",
    "\n",
    "ax = axs[0]\n",
    "#ax.hist([f64, f32], label=lib_labels, **h_kwargs)\n",
    "ax.hist([f32t, f32], label=lib_labels, **h_kwargs)\n",
    "ax.set_title('Functions')\n",
    "ax.set_ylabel('Number of Symbols')\n",
    "#ax.text(0.45, 0.6, change_in_size(f32, f64), transform=ax.transAxes)\n",
    "ax.text(0.45, 0.6, change_in_size(f32, f32t), transform=ax.transAxes)\n",
    "\n",
    "ax = axs[1]\n",
    "#ax.hist([o64, o32], label=lib_labels, **h_kwargs)\n",
    "ax.hist([o32t, o32], label=lib_labels, **h_kwargs)\n",
    "ax.set_title('Objects')\n",
    "ax.set_ylabel('Number of Symbols')\n",
    "#ax.text(0.45, 0.6, change_in_size(o32, o64), transform=ax.transAxes)\n",
    "ax.text(0.45, 0.6, change_in_size(o32, o32t), transform=ax.transAxes)\n",
    "\n",
    "for ax in np.ravel(axs):\n",
    "    ax.grid(), ax.legend(), ax.semilogx(), ax.set_xlabel('Symbol Size in Bytes')\n",
    "\n",
    "plt.tight_layout()\n",
    "\n",
    "\n",
    "#f_lgw = {'Local': [fl64, fl32], 'Global': [fg64, fg32], 'Weak': [fw64, fw32]}\n",
    "#o_lgw = {'Local': [ol64, ol32], 'Global': [og64, og32], 'Weak': [ow64, ow32]}\n",
    "f_lgw = {'Local': [fl32t, fl32], 'Global': [fg32t, fg32], 'Weak': [fw32t, fw32]}\n",
    "o_lgw = {'Local': [ol32t, ol32], 'Global': [og32t, og32], 'Weak': [ow32t, ow32]}\n",
    "#f_lgwr = {'Local': [fl64r, fl32r], 'Global': [fg64r, fg32r], 'Weak': [fw64r, fw32r]}\n",
    "#o_lgwr = {'Local': [ol64r, ol32r], 'Global': [og64r, og32r], 'Weak': [ow64r, ow32r]}\n",
    "f_lgwr = {'Local': [fl32rt, fl32r], 'Global': [fg32rt, fg32r], 'Weak': [fw32rt, fw32r]}\n",
    "o_lgwr = {'Local': [ol32rt, ol32r], 'Global': [og32rt, og32r], 'Weak': [ow32rt, ow32r]}\n",
    "\n",
    "\n",
    "fig, axs = plt.subplots(4, 3, figsize=(8,12), sharey=True)#'row')#, gridspec_kw=dict(wspace=0))\n",
    "\n",
    "for indx, (symlabel, symbols) in enumerate(f_lgw.items()):\n",
    "    ax = axs[0, indx]\n",
    "    ax.hist(symbols, label=lib_labels, **h_kwargs)\n",
    "    ax.set_title(symlabel)\n",
    "    ax.set_ylabel('Functions') if indx == 0 else None\n",
    "\n",
    "for indx, (symlabel, symbols) in enumerate(f_lgwr.items()):\n",
    "    ax = axs[1, indx]\n",
    "    ax.hist(symbols, label=lib_labels, **h_kwargs)\n",
    "    ax.set_title(symlabel)\n",
    "    ax.set_ylabel('Functions, ROOT Related') if indx == 0 else None\n",
    "\n",
    "for indx, (symlabel, symbols) in enumerate(o_lgw.items()):\n",
    "    ax = axs[2, indx]\n",
    "    ax.hist(symbols, label=lib_labels, **h_kwargs)\n",
    "    ax.set_title(symlabel)\n",
    "    ax.set_ylabel('Objects') if indx == 0 else None\n",
    "\n",
    "for indx, (symlabel, symbols) in enumerate(o_lgwr.items()):\n",
    "    ax = axs[3, indx]\n",
    "    ax.hist(symbols, label=lib_labels, **h_kwargs)\n",
    "    ax.set_title(symlabel)\n",
    "    ax.set_ylabel('Objects, ROOT Related') if indx == 0 else None\n",
    "\n",
    "\n",
    "for ax in np.ravel(axs):\n",
    "    ax.grid(), ax.legend(), ax.semilogx(), ax.set_xlabel('Symbol Size in Bytes')\n",
    "\n",
    "plt.tight_layout()"
   ]
  },
  {
   "cell_type": "markdown",
   "metadata": {},
   "source": [
    "## Appendix\n",
    "\n",
    "### Various Info about ELF Files"
   ]
  },
  {
   "cell_type": "code",
   "execution_count": null,
   "metadata": {},
   "outputs": [],
   "source": [
    "df[['cf', 'r']].agg(['value_counts'])"
   ]
  },
  {
   "cell_type": "code",
   "execution_count": null,
   "metadata": {},
   "outputs": [],
   "source": [
    "df[['entry_st_info_type', 'entry_st_info_bind']].agg(['value_counts'])"
   ]
  },
  {
   "cell_type": "code",
   "execution_count": null,
   "metadata": {},
   "outputs": [],
   "source": [
    "#section_names = [ (s.name, s['sh_type']) for s in elf32.iter_sections() if s.name and 'SYM' in s['sh_type']]\n",
    "#section_names"
   ]
  },
  {
   "cell_type": "code",
   "execution_count": null,
   "metadata": {},
   "outputs": [],
   "source": [
    "#sections = [s for s in elf32.iter_sections() if s.name]\n",
    "#sections"
   ]
  },
  {
   "cell_type": "code",
   "execution_count": null,
   "metadata": {},
   "outputs": [],
   "source": [
    "#load_segments = [s for s in elf32.iter_segments() if s.header.p_type == 'PT_LOAD']\n",
    "#load_segments"
   ]
  },
  {
   "cell_type": "code",
   "execution_count": null,
   "metadata": {},
   "outputs": [],
   "source": [
    "#seg_sec = [(seg_indx, sec.name, sec['sh_type']) for seg_indx, seg in enumerate(load_segments) for sec in sections if seg.section_in_segment(sec)]\n",
    "#seg_sec"
   ]
  },
  {
   "cell_type": "code",
   "execution_count": null,
   "metadata": {},
   "outputs": [],
   "source": [
    "#symbols = [sym for sym in elf32.get_section_by_name('.symtab').iter_symbols()]\n",
    "#len(symbols)\n",
    "##symbols"
   ]
  }
 ],
 "metadata": {
  "kernelspec": {
   "display_name": "Python 3",
   "language": "python",
   "name": "python3"
  },
  "language_info": {
   "codemirror_mode": {
    "name": "ipython",
    "version": 3
   },
   "file_extension": ".py",
   "mimetype": "text/x-python",
   "name": "python",
   "nbconvert_exporter": "python",
   "pygments_lexer": "ipython3",
   "version": "3.6.7"
  },
  "toc": {
   "base_numbering": 1,
   "nav_menu": {},
   "number_sections": true,
   "sideBar": true,
   "skip_h1_title": true,
   "title_cell": "Table of Contents",
   "title_sidebar": "Contents",
   "toc_cell": false,
   "toc_position": {},
   "toc_section_display": true,
   "toc_window_display": true
  }
 },
 "nbformat": 4,
 "nbformat_minor": 4
}
